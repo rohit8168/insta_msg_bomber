{
 "cells": [
  {
   "cell_type": "code",
   "execution_count": 355,
   "id": "75c26c4e",
   "metadata": {},
   "outputs": [],
   "source": [
    "import selenium\n",
    "from selenium import webdriver\n",
    "from selenium.webdriver.common.by import By\n",
    "from selenium.webdriver.common.action_chains import ActionChains\n",
    "from selenium.webdriver.chrome.options import Options\n"
   ]
  },
  {
   "cell_type": "code",
   "execution_count": 356,
   "id": "0ae8e106",
   "metadata": {},
   "outputs": [],
   "source": [
    "from selenium.webdriver.support.ui import WebDriverWait\n",
    "from selenium.webdriver.support import expected_conditions as EC\n",
    "import time"
   ]
  },
  {
   "cell_type": "code",
   "execution_count": 357,
   "id": "13dbcf9b",
   "metadata": {},
   "outputs": [],
   "source": [
    "edge_options = Options()\n",
    "edge_options.add_argument(\"--headless\")\n",
    "driver=webdriver.Edge()"
   ]
  },
  {
   "cell_type": "code",
   "execution_count": 358,
   "id": "2fdfb7a5",
   "metadata": {},
   "outputs": [],
   "source": [
    "url='https://www.instagram.com/'"
   ]
  },
  {
   "cell_type": "code",
   "execution_count": 359,
   "id": "eabb44b4",
   "metadata": {},
   "outputs": [],
   "source": [
    "\n",
    "driver.get(url)\n",
    "try:\n",
    "    driver.maximize_window()\n",
    "except:\n",
    "    pass"
   ]
  },
  {
   "cell_type": "code",
   "execution_count": 360,
   "id": "7f2af40f",
   "metadata": {},
   "outputs": [
    {
     "name": "stdout",
     "output_type": "stream",
     "text": [
      "enter the user namebaaghi_maurya_\n"
     ]
    }
   ],
   "source": [
    "time.sleep(2)\n",
    "element=driver.find_element(By.CLASS_NAME,'_aa4a')\n",
    "action=ActionChains(driver)\n",
    "action.click(on_element=element).perform()\n",
    "user_name=input(\"enter the user name\")\n",
    "\n",
    "action.send_keys(user_name).perform()\n"
   ]
  },
  {
   "cell_type": "code",
   "execution_count": 361,
   "id": "4aa57a8e",
   "metadata": {},
   "outputs": [],
   "source": [
    "action.reset_actions()"
   ]
  },
  {
   "cell_type": "code",
   "execution_count": 362,
   "id": "38c2e215",
   "metadata": {},
   "outputs": [],
   "source": [
    "element=driver.find_element(By.XPATH,'//span[text()=\"Password\"]')"
   ]
  },
  {
   "cell_type": "code",
   "execution_count": 363,
   "id": "b2dbd895",
   "metadata": {},
   "outputs": [
    {
     "name": "stdout",
     "output_type": "stream",
     "text": [
      "enter the passwordRohit9729@\n"
     ]
    }
   ],
   "source": [
    "action.click(on_element=element)\n",
    "password=input(\"enter the password\")\n",
    "\n",
    "action.send_keys(password)\n",
    "action.perform()"
   ]
  },
  {
   "cell_type": "code",
   "execution_count": 364,
   "id": "ab62a13e",
   "metadata": {},
   "outputs": [],
   "source": [
    "action.reset_actions()"
   ]
  },
  {
   "cell_type": "code",
   "execution_count": 365,
   "id": "2ceb6e1c",
   "metadata": {},
   "outputs": [],
   "source": [
    "element=driver.find_element(By.XPATH,'//div[text()=\"Log in\"]')\n",
    "action.click(on_element=element)\n",
    "\n",
    "action.perform()\n"
   ]
  },
  {
   "cell_type": "code",
   "execution_count": 366,
   "id": "f53c6c63",
   "metadata": {},
   "outputs": [],
   "source": [
    "try:\n",
    "    element=WebDriverWait(driver,10).until(EC.presence_of_element_located((By.ID,'verificationCodeDescription')))\n",
    "    text=element.is_displayed()\n",
    "    if text is True:\n",
    "        element=driver.find_element(By.XPATH,'//span[text()=\"Security Code\"]')\n",
    "        action.click(on_element=element)\n",
    "        otp=input(\"enter the opt\")\n",
    "        print(otp)\n",
    "        action.send_keys(str(otp))\n",
    "        element=driver.find_element(By.XPATH,'//button[text()=\"Confirm\"]')\n",
    "        action.click(on_element=element)\n",
    "        action.perform()\n",
    "    print(\"1\")\n",
    "except:\n",
    "    pass\n",
    "    \n",
    "    "
   ]
  },
  {
   "cell_type": "code",
   "execution_count": 352,
   "id": "18400ad7",
   "metadata": {},
   "outputs": [],
   "source": [
    "action.reset_actions()"
   ]
  },
  {
   "cell_type": "code",
   "execution_count": 367,
   "id": "185d7fce",
   "metadata": {},
   "outputs": [],
   "source": [
    "time.sleep(2)\n",
    "try:\n",
    "    \n",
    "    element=driver.find_element(By.XPATH,\"//button[text()='Not Now']\")\n",
    "    action.click(on_element=element)\n",
    "    action.perform()\n",
    "    print(1)\n",
    "except:\n",
    "    pass"
   ]
  },
  {
   "cell_type": "code",
   "execution_count": 368,
   "id": "7fa0e018",
   "metadata": {},
   "outputs": [],
   "source": [
    "\n",
    "time.sleep(2)\n",
    "element=driver.find_element(By.XPATH,'//span[text()=\"Messages\"]')\n",
    "action.click(on_element=element).perform()\n"
   ]
  },
  {
   "cell_type": "code",
   "execution_count": 369,
   "id": "a610d254",
   "metadata": {},
   "outputs": [],
   "source": [
    "time.sleep(2)\n",
    "try:\n",
    "    element=driver.find_element(By.XPATH,'//span[text()=\"Turn on Notifications\"]')\n",
    "    element=driver.find_element(By.XPATH,\"//button[text()='Not Now']\")\n",
    "    action.click(on_element=element)\n",
    "    action.perform()\n",
    "except:\n",
    "    pass"
   ]
  },
  {
   "cell_type": "code",
   "execution_count": null,
   "id": "7e51fdcf",
   "metadata": {},
   "outputs": [],
   "source": [
    "action.reset_actions()"
   ]
  },
  {
   "cell_type": "code",
   "execution_count": 370,
   "id": "94fc16af",
   "metadata": {},
   "outputs": [
    {
     "name": "stdout",
     "output_type": "stream",
     "text": [
      "enter the nameHarsh\n"
     ]
    }
   ],
   "source": [
    "time.sleep(2)\n",
    "try:\n",
    "    text=input(\"enter the name\")\n",
    "\n",
    "    text=text.replace(\"'\", \"\\\\'\")\n",
    "    end=f'//span[text()=\"{text}\"]'\n",
    "    \n",
    "    element=driver.find_element(By.XPATH,end)\n",
    "    action.click(on_element=element).perform()\n",
    "except:\n",
    "    print(\"name is not found\")"
   ]
  },
  {
   "cell_type": "code",
   "execution_count": null,
   "id": "2d34357e",
   "metadata": {},
   "outputs": [],
   "source": [
    "time.sleep(2)\n",
    "try:\n",
    "    element=driver.find_element(By.XPATH,'//span[text()=\"Turn on Notifications\"]')\n",
    "    element=driver.find_element(By.XPATH,\"//button[text()='Not Now']\")\n",
    "    action.click(on_element=element)\n",
    "    action.perform()\n",
    "except:\n",
    "    pass"
   ]
  },
  {
   "cell_type": "code",
   "execution_count": null,
   "id": "444e8f48",
   "metadata": {},
   "outputs": [],
   "source": [
    "element=driver.find_element(By.XPATH,'//div[text()=\"Message...\"]')\n",
    "action.click(on_element=element)\n",
    "action.send_keys(\"this is automated message\")\n",
    "el2=driver.find_element(By.XPATH,'//div[text()=\"Send\"]')\n",
    "action.click(on_element=el2)\n",
    "action.perform()\n",
    "n=int(input(\"enter the times you want to send msg\"))\n",
    "for i in range(1,n):\n",
    "    element=driver.find_element(By.XPATH,'//div[text()=\"Message...\"]')\n",
    "    action.click(on_element=element)\n",
    "    action.send_keys(\"hi\")\n",
    "    el2=driver.find_element(By.XPATH,'//div[text()=\"Send\"]')\n",
    "    action.click(on_element=el2)\n",
    "    action.perform()\n"
   ]
  }
 ],
 "metadata": {
  "kernelspec": {
   "display_name": "Python 3 (ipykernel)",
   "language": "python",
   "name": "python3"
  },
  "language_info": {
   "codemirror_mode": {
    "name": "ipython",
    "version": 3
   },
   "file_extension": ".py",
   "mimetype": "text/x-python",
   "name": "python",
   "nbconvert_exporter": "python",
   "pygments_lexer": "ipython3",
   "version": "3.10.9"
  }
 },
 "nbformat": 4,
 "nbformat_minor": 5
}
